{
 "cells": [
  {
   "cell_type": "code",
   "execution_count": 1,
   "metadata": {},
   "outputs": [],
   "source": [
    "import pandas as pd"
   ]
  },
  {
   "cell_type": "code",
   "execution_count": 2,
   "metadata": {},
   "outputs": [],
   "source": [
    "train_data = pd.read_csv('train.csv')\n",
    "test_data = pd.read_csv('test.csv')"
   ]
  },
  {
   "cell_type": "code",
   "execution_count": 3,
   "metadata": {},
   "outputs": [
    {
     "data": {
      "text/html": [
       "<div>\n",
       "<style scoped>\n",
       "    .dataframe tbody tr th:only-of-type {\n",
       "        vertical-align: middle;\n",
       "    }\n",
       "\n",
       "    .dataframe tbody tr th {\n",
       "        vertical-align: top;\n",
       "    }\n",
       "\n",
       "    .dataframe thead th {\n",
       "        text-align: right;\n",
       "    }\n",
       "</style>\n",
       "<table border=\"1\" class=\"dataframe\">\n",
       "  <thead>\n",
       "    <tr style=\"text-align: right;\">\n",
       "      <th></th>\n",
       "      <th>gift_id</th>\n",
       "      <th>gift_type</th>\n",
       "      <th>gift_category</th>\n",
       "      <th>gift_cluster</th>\n",
       "      <th>instock_date</th>\n",
       "      <th>stock_update_date</th>\n",
       "      <th>lsg_1</th>\n",
       "      <th>lsg_2</th>\n",
       "      <th>lsg_3</th>\n",
       "      <th>lsg_4</th>\n",
       "      <th>lsg_5</th>\n",
       "      <th>lsg_6</th>\n",
       "      <th>uk_date1</th>\n",
       "      <th>uk_date2</th>\n",
       "      <th>is_discounted</th>\n",
       "      <th>volumes</th>\n",
       "      <th>price</th>\n",
       "    </tr>\n",
       "  </thead>\n",
       "  <tbody>\n",
       "    <tr>\n",
       "      <th>0</th>\n",
       "      <td>GF_11156</td>\n",
       "      <td>61</td>\n",
       "      <td>534</td>\n",
       "      <td>3942</td>\n",
       "      <td>2014-02-21 05:07:06.000</td>\n",
       "      <td>2016-11-09 15:49:51.000</td>\n",
       "      <td>3377</td>\n",
       "      <td>5221</td>\n",
       "      <td>504</td>\n",
       "      <td>1912</td>\n",
       "      <td>10</td>\n",
       "      <td>554</td>\n",
       "      <td>2014-02-24 08:07:06.000</td>\n",
       "      <td>2014-02-24 07:07:06.000</td>\n",
       "      <td>0</td>\n",
       "      <td>NaN</td>\n",
       "      <td>175.54</td>\n",
       "    </tr>\n",
       "    <tr>\n",
       "      <th>1</th>\n",
       "      <td>GF_11157</td>\n",
       "      <td>61</td>\n",
       "      <td>534</td>\n",
       "      <td>3942</td>\n",
       "      <td>2014-02-21 06:07:06.000</td>\n",
       "      <td>2016-11-11 13:49:51.000</td>\n",
       "      <td>3377</td>\n",
       "      <td>5221</td>\n",
       "      <td>504</td>\n",
       "      <td>1912</td>\n",
       "      <td>10</td>\n",
       "      <td>554</td>\n",
       "      <td>2014-02-22 07:07:06.000</td>\n",
       "      <td>2014-02-24 06:07:06.000</td>\n",
       "      <td>1</td>\n",
       "      <td>NaN</td>\n",
       "      <td>95.80</td>\n",
       "    </tr>\n",
       "    <tr>\n",
       "      <th>2</th>\n",
       "      <td>GF_15689</td>\n",
       "      <td>584</td>\n",
       "      <td>262</td>\n",
       "      <td>0</td>\n",
       "      <td>2014-02-21 09:30:21.000</td>\n",
       "      <td>2016-03-24 14:46:18.000</td>\n",
       "      <td>5290</td>\n",
       "      <td>1579</td>\n",
       "      <td>3203</td>\n",
       "      <td>1912</td>\n",
       "      <td>9</td>\n",
       "      <td>1578</td>\n",
       "      <td>2016-01-26 00:04:45.000</td>\n",
       "      <td>2016-03-18 02:00:00.000</td>\n",
       "      <td>1</td>\n",
       "      <td>NaN</td>\n",
       "      <td>107.35</td>\n",
       "    </tr>\n",
       "    <tr>\n",
       "      <th>3</th>\n",
       "      <td>GF_11155</td>\n",
       "      <td>61</td>\n",
       "      <td>534</td>\n",
       "      <td>3942</td>\n",
       "      <td>2014-02-22 05:07:06.000</td>\n",
       "      <td>2016-11-10 16:49:51.000</td>\n",
       "      <td>3377</td>\n",
       "      <td>5221</td>\n",
       "      <td>504</td>\n",
       "      <td>1912</td>\n",
       "      <td>10</td>\n",
       "      <td>554</td>\n",
       "      <td>2016-11-07 13:49:51.000</td>\n",
       "      <td>2016-11-06 04:00:00.000</td>\n",
       "      <td>0</td>\n",
       "      <td>NaN</td>\n",
       "      <td>172.90</td>\n",
       "    </tr>\n",
       "    <tr>\n",
       "      <th>4</th>\n",
       "      <td>GF_11158</td>\n",
       "      <td>61</td>\n",
       "      <td>534</td>\n",
       "      <td>3942</td>\n",
       "      <td>2014-02-22 07:07:06.000</td>\n",
       "      <td>2016-11-10 13:49:51.000</td>\n",
       "      <td>3377</td>\n",
       "      <td>5221</td>\n",
       "      <td>504</td>\n",
       "      <td>1912</td>\n",
       "      <td>9</td>\n",
       "      <td>554</td>\n",
       "      <td>2016-11-07 15:49:51.000</td>\n",
       "      <td>2016-11-06 01:00:00.000</td>\n",
       "      <td>1</td>\n",
       "      <td>NaN</td>\n",
       "      <td>77.72</td>\n",
       "    </tr>\n",
       "  </tbody>\n",
       "</table>\n",
       "</div>"
      ],
      "text/plain": [
       "    gift_id  gift_type  gift_category  gift_cluster             instock_date  \\\n",
       "0  GF_11156         61            534          3942  2014-02-21 05:07:06.000   \n",
       "1  GF_11157         61            534          3942  2014-02-21 06:07:06.000   \n",
       "2  GF_15689        584            262             0  2014-02-21 09:30:21.000   \n",
       "3  GF_11155         61            534          3942  2014-02-22 05:07:06.000   \n",
       "4  GF_11158         61            534          3942  2014-02-22 07:07:06.000   \n",
       "\n",
       "         stock_update_date  lsg_1  lsg_2  lsg_3  lsg_4  lsg_5  lsg_6  \\\n",
       "0  2016-11-09 15:49:51.000   3377   5221    504   1912     10    554   \n",
       "1  2016-11-11 13:49:51.000   3377   5221    504   1912     10    554   \n",
       "2  2016-03-24 14:46:18.000   5290   1579   3203   1912      9   1578   \n",
       "3  2016-11-10 16:49:51.000   3377   5221    504   1912     10    554   \n",
       "4  2016-11-10 13:49:51.000   3377   5221    504   1912      9    554   \n",
       "\n",
       "                  uk_date1                 uk_date2  is_discounted  volumes  \\\n",
       "0  2014-02-24 08:07:06.000  2014-02-24 07:07:06.000              0      NaN   \n",
       "1  2014-02-22 07:07:06.000  2014-02-24 06:07:06.000              1      NaN   \n",
       "2  2016-01-26 00:04:45.000  2016-03-18 02:00:00.000              1      NaN   \n",
       "3  2016-11-07 13:49:51.000  2016-11-06 04:00:00.000              0      NaN   \n",
       "4  2016-11-07 15:49:51.000  2016-11-06 01:00:00.000              1      NaN   \n",
       "\n",
       "    price  \n",
       "0  175.54  \n",
       "1   95.80  \n",
       "2  107.35  \n",
       "3  172.90  \n",
       "4   77.72  "
      ]
     },
     "execution_count": 3,
     "metadata": {},
     "output_type": "execute_result"
    }
   ],
   "source": [
    "train_data.head()"
   ]
  },
  {
   "cell_type": "code",
   "execution_count": 5,
   "metadata": {},
   "outputs": [
    {
     "data": {
      "text/plain": [
       "((20279, 17), (13519, 16))"
      ]
     },
     "execution_count": 5,
     "metadata": {},
     "output_type": "execute_result"
    }
   ],
   "source": [
    "train_data.shape,test_data.shape"
   ]
  },
  {
   "cell_type": "code",
   "execution_count": 11,
   "metadata": {},
   "outputs": [
    {
     "data": {
      "text/plain": [
       "(gift_id                  0\n",
       " gift_type                0\n",
       " gift_category            0\n",
       " gift_cluster             0\n",
       " instock_date             0\n",
       " stock_update_date        0\n",
       " lsg_1                    0\n",
       " lsg_2                    0\n",
       " lsg_3                    0\n",
       " lsg_4                    0\n",
       " lsg_5                    0\n",
       " lsg_6                    0\n",
       " uk_date1                 0\n",
       " uk_date2                 0\n",
       " is_discounted            0\n",
       " volumes              12956\n",
       " price                    0\n",
       " dtype: int64,\n",
       " gift_id                 0\n",
       " gift_type               0\n",
       " gift_category           0\n",
       " gift_cluster            0\n",
       " instock_date            0\n",
       " stock_update_date       0\n",
       " lsg_1                   0\n",
       " lsg_2                   0\n",
       " lsg_3                   0\n",
       " lsg_4                   0\n",
       " lsg_5                   0\n",
       " lsg_6                   0\n",
       " uk_date1                0\n",
       " uk_date2                0\n",
       " is_discounted           0\n",
       " volumes              2352\n",
       " dtype: int64,\n",
       " (20279, 17),\n",
       " (13519, 16),\n",
       " gift_id               object\n",
       " gift_type              int64\n",
       " gift_category          int64\n",
       " gift_cluster           int64\n",
       " instock_date          object\n",
       " stock_update_date     object\n",
       " lsg_1                  int64\n",
       " lsg_2                  int64\n",
       " lsg_3                  int64\n",
       " lsg_4                  int64\n",
       " lsg_5                  int64\n",
       " lsg_6                  int64\n",
       " uk_date1              object\n",
       " uk_date2              object\n",
       " is_discounted          int64\n",
       " volumes              float64\n",
       " price                float64\n",
       " dtype: object)"
      ]
     },
     "execution_count": 11,
     "metadata": {},
     "output_type": "execute_result"
    }
   ],
   "source": [
    "train_data.isnull().sum(),test_data.isnull().sum(),train_data.shape,test_data.shape,train_data.dtypes"
   ]
  },
  {
   "cell_type": "code",
   "execution_count": 12,
   "metadata": {},
   "outputs": [],
   "source": [
    "del train_data[\"volumes\"]\n",
    "del test_data[\"volumes\"]"
   ]
  },
  {
   "cell_type": "code",
   "execution_count": 13,
   "metadata": {},
   "outputs": [],
   "source": [
    "train_data['gift_id'] = train_data.gift_id.str.extract('(\\d+)')\n",
    "test_data['gift_id'] = test_data.gift_id.str.extract('(\\d+)')"
   ]
  },
  {
   "cell_type": "code",
   "execution_count": 14,
   "metadata": {},
   "outputs": [
    {
     "data": {
      "text/html": [
       "<div>\n",
       "<style scoped>\n",
       "    .dataframe tbody tr th:only-of-type {\n",
       "        vertical-align: middle;\n",
       "    }\n",
       "\n",
       "    .dataframe tbody tr th {\n",
       "        vertical-align: top;\n",
       "    }\n",
       "\n",
       "    .dataframe thead th {\n",
       "        text-align: right;\n",
       "    }\n",
       "</style>\n",
       "<table border=\"1\" class=\"dataframe\">\n",
       "  <thead>\n",
       "    <tr style=\"text-align: right;\">\n",
       "      <th></th>\n",
       "      <th>gift_id</th>\n",
       "      <th>gift_type</th>\n",
       "      <th>gift_category</th>\n",
       "      <th>gift_cluster</th>\n",
       "      <th>instock_date</th>\n",
       "      <th>stock_update_date</th>\n",
       "      <th>lsg_1</th>\n",
       "      <th>lsg_2</th>\n",
       "      <th>lsg_3</th>\n",
       "      <th>lsg_4</th>\n",
       "      <th>lsg_5</th>\n",
       "      <th>lsg_6</th>\n",
       "      <th>uk_date1</th>\n",
       "      <th>uk_date2</th>\n",
       "      <th>is_discounted</th>\n",
       "      <th>price</th>\n",
       "    </tr>\n",
       "  </thead>\n",
       "  <tbody>\n",
       "    <tr>\n",
       "      <th>0</th>\n",
       "      <td>11156</td>\n",
       "      <td>61</td>\n",
       "      <td>534</td>\n",
       "      <td>3942</td>\n",
       "      <td>2014-02-21 05:07:06.000</td>\n",
       "      <td>2016-11-09 15:49:51.000</td>\n",
       "      <td>3377</td>\n",
       "      <td>5221</td>\n",
       "      <td>504</td>\n",
       "      <td>1912</td>\n",
       "      <td>10</td>\n",
       "      <td>554</td>\n",
       "      <td>2014-02-24 08:07:06.000</td>\n",
       "      <td>2014-02-24 07:07:06.000</td>\n",
       "      <td>0</td>\n",
       "      <td>175.54</td>\n",
       "    </tr>\n",
       "    <tr>\n",
       "      <th>1</th>\n",
       "      <td>11157</td>\n",
       "      <td>61</td>\n",
       "      <td>534</td>\n",
       "      <td>3942</td>\n",
       "      <td>2014-02-21 06:07:06.000</td>\n",
       "      <td>2016-11-11 13:49:51.000</td>\n",
       "      <td>3377</td>\n",
       "      <td>5221</td>\n",
       "      <td>504</td>\n",
       "      <td>1912</td>\n",
       "      <td>10</td>\n",
       "      <td>554</td>\n",
       "      <td>2014-02-22 07:07:06.000</td>\n",
       "      <td>2014-02-24 06:07:06.000</td>\n",
       "      <td>1</td>\n",
       "      <td>95.80</td>\n",
       "    </tr>\n",
       "    <tr>\n",
       "      <th>2</th>\n",
       "      <td>15689</td>\n",
       "      <td>584</td>\n",
       "      <td>262</td>\n",
       "      <td>0</td>\n",
       "      <td>2014-02-21 09:30:21.000</td>\n",
       "      <td>2016-03-24 14:46:18.000</td>\n",
       "      <td>5290</td>\n",
       "      <td>1579</td>\n",
       "      <td>3203</td>\n",
       "      <td>1912</td>\n",
       "      <td>9</td>\n",
       "      <td>1578</td>\n",
       "      <td>2016-01-26 00:04:45.000</td>\n",
       "      <td>2016-03-18 02:00:00.000</td>\n",
       "      <td>1</td>\n",
       "      <td>107.35</td>\n",
       "    </tr>\n",
       "    <tr>\n",
       "      <th>3</th>\n",
       "      <td>11155</td>\n",
       "      <td>61</td>\n",
       "      <td>534</td>\n",
       "      <td>3942</td>\n",
       "      <td>2014-02-22 05:07:06.000</td>\n",
       "      <td>2016-11-10 16:49:51.000</td>\n",
       "      <td>3377</td>\n",
       "      <td>5221</td>\n",
       "      <td>504</td>\n",
       "      <td>1912</td>\n",
       "      <td>10</td>\n",
       "      <td>554</td>\n",
       "      <td>2016-11-07 13:49:51.000</td>\n",
       "      <td>2016-11-06 04:00:00.000</td>\n",
       "      <td>0</td>\n",
       "      <td>172.90</td>\n",
       "    </tr>\n",
       "    <tr>\n",
       "      <th>4</th>\n",
       "      <td>11158</td>\n",
       "      <td>61</td>\n",
       "      <td>534</td>\n",
       "      <td>3942</td>\n",
       "      <td>2014-02-22 07:07:06.000</td>\n",
       "      <td>2016-11-10 13:49:51.000</td>\n",
       "      <td>3377</td>\n",
       "      <td>5221</td>\n",
       "      <td>504</td>\n",
       "      <td>1912</td>\n",
       "      <td>9</td>\n",
       "      <td>554</td>\n",
       "      <td>2016-11-07 15:49:51.000</td>\n",
       "      <td>2016-11-06 01:00:00.000</td>\n",
       "      <td>1</td>\n",
       "      <td>77.72</td>\n",
       "    </tr>\n",
       "  </tbody>\n",
       "</table>\n",
       "</div>"
      ],
      "text/plain": [
       "  gift_id  gift_type  gift_category  gift_cluster             instock_date  \\\n",
       "0   11156         61            534          3942  2014-02-21 05:07:06.000   \n",
       "1   11157         61            534          3942  2014-02-21 06:07:06.000   \n",
       "2   15689        584            262             0  2014-02-21 09:30:21.000   \n",
       "3   11155         61            534          3942  2014-02-22 05:07:06.000   \n",
       "4   11158         61            534          3942  2014-02-22 07:07:06.000   \n",
       "\n",
       "         stock_update_date  lsg_1  lsg_2  lsg_3  lsg_4  lsg_5  lsg_6  \\\n",
       "0  2016-11-09 15:49:51.000   3377   5221    504   1912     10    554   \n",
       "1  2016-11-11 13:49:51.000   3377   5221    504   1912     10    554   \n",
       "2  2016-03-24 14:46:18.000   5290   1579   3203   1912      9   1578   \n",
       "3  2016-11-10 16:49:51.000   3377   5221    504   1912     10    554   \n",
       "4  2016-11-10 13:49:51.000   3377   5221    504   1912      9    554   \n",
       "\n",
       "                  uk_date1                 uk_date2  is_discounted   price  \n",
       "0  2014-02-24 08:07:06.000  2014-02-24 07:07:06.000              0  175.54  \n",
       "1  2014-02-22 07:07:06.000  2014-02-24 06:07:06.000              1   95.80  \n",
       "2  2016-01-26 00:04:45.000  2016-03-18 02:00:00.000              1  107.35  \n",
       "3  2016-11-07 13:49:51.000  2016-11-06 04:00:00.000              0  172.90  \n",
       "4  2016-11-07 15:49:51.000  2016-11-06 01:00:00.000              1   77.72  "
      ]
     },
     "execution_count": 14,
     "metadata": {},
     "output_type": "execute_result"
    }
   ],
   "source": [
    "train_data.head()"
   ]
  },
  {
   "cell_type": "code",
   "execution_count": 15,
   "metadata": {},
   "outputs": [],
   "source": [
    "train_data['gift_id'] = train_data['gift_id'].astype(int)\n",
    "test_data['gift_id'] = test_data['gift_id'].astype(int)"
   ]
  },
  {
   "cell_type": "code",
   "execution_count": 16,
   "metadata": {},
   "outputs": [],
   "source": [
    "k = ['instock_date','stock_update_date','uk_date1','uk_date2']\n",
    "for i in k:\n",
    "    train_data[i] = pd.to_datetime(train_data[i])\n",
    "    test_data[i] = pd.to_datetime(test_data[i])"
   ]
  },
  {
   "cell_type": "code",
   "execution_count": 18,
   "metadata": {},
   "outputs": [],
   "source": [
    "k=['instock_date','stock_update_date','uk_date1','uk_date2']\n",
    "for i in k:\n",
    "  test_data[i+'_'+'year'] = test_data[i].dt.year\n",
    "  test_data[i+'_'+'day'] = test_data[i].dt.day\n",
    "  test_data[i+'_'+'weekofyear'] = test_data[i].dt.weekofyear\n",
    "  test_data[i+'_'+'month'] = test_data[i].dt.month\n",
    "  test_data[i+'_'+'dayofweek'] =test_data[i].dt.dayofweek\n",
    "  test_data[i+'_'+'weekend'] = (test_data[i].dt.weekday >=5).astype(int)\n",
    "  test_data[i+'_'+'hour'] = test_data[i].dt.hour\n",
    "  test_data[i+'_'+'minute'] = test_data[i].dt.minute\n",
    "  train_data[i+'_'+'year'] = train_data[i].dt.year\n",
    "  train_data[i+'_'+'day'] = train_data[i].dt.day\n",
    "  train_data[i+'_'+'weekofyear'] = train_data[i].dt.weekofyear\n",
    "  train_data[i+'_'+'month'] = train_data[i].dt.month\n",
    "  train_data[i+'_'+'dayofweek'] = train_data[i].dt.dayofweek\n",
    "  train_data[i+'_'+'weekend'] = (train_data[i].dt.weekday >=5).astype(int)\n",
    "  train_data[i+'_'+'hour'] = train_data[i].dt.hour\n",
    "  train_data[i+'_'+'minute'] = train_data[i].dt.minute"
   ]
  },
  {
   "cell_type": "code",
   "execution_count": 19,
   "metadata": {},
   "outputs": [],
   "source": [
    "k=['instock_date','stock_update_date','uk_date1','uk_date2']\n",
    "for i in k:\n",
    "  del train_data[i]\n",
    "  del test_data[i]"
   ]
  },
  {
   "cell_type": "code",
   "execution_count": 21,
   "metadata": {},
   "outputs": [],
   "source": [
    "c=train_data['price']\n",
    "del train_data['price']\n",
    "train_data['price']=c"
   ]
  },
  {
   "cell_type": "code",
   "execution_count": 23,
   "metadata": {},
   "outputs": [
    {
     "data": {
      "text/html": [
       "<div>\n",
       "<style scoped>\n",
       "    .dataframe tbody tr th:only-of-type {\n",
       "        vertical-align: middle;\n",
       "    }\n",
       "\n",
       "    .dataframe tbody tr th {\n",
       "        vertical-align: top;\n",
       "    }\n",
       "\n",
       "    .dataframe thead th {\n",
       "        text-align: right;\n",
       "    }\n",
       "</style>\n",
       "<table border=\"1\" class=\"dataframe\">\n",
       "  <thead>\n",
       "    <tr style=\"text-align: right;\">\n",
       "      <th></th>\n",
       "      <th>gift_id</th>\n",
       "      <th>gift_type</th>\n",
       "      <th>gift_category</th>\n",
       "      <th>gift_cluster</th>\n",
       "      <th>lsg_1</th>\n",
       "      <th>lsg_2</th>\n",
       "      <th>lsg_3</th>\n",
       "      <th>lsg_4</th>\n",
       "      <th>lsg_5</th>\n",
       "      <th>lsg_6</th>\n",
       "      <th>...</th>\n",
       "      <th>uk_date1_minute</th>\n",
       "      <th>uk_date2_year</th>\n",
       "      <th>uk_date2_day</th>\n",
       "      <th>uk_date2_weekofyear</th>\n",
       "      <th>uk_date2_month</th>\n",
       "      <th>uk_date2_dayofweek</th>\n",
       "      <th>uk_date2_weekend</th>\n",
       "      <th>uk_date2_hour</th>\n",
       "      <th>uk_date2_minute</th>\n",
       "      <th>price</th>\n",
       "    </tr>\n",
       "  </thead>\n",
       "  <tbody>\n",
       "    <tr>\n",
       "      <th>0</th>\n",
       "      <td>11156</td>\n",
       "      <td>61</td>\n",
       "      <td>534</td>\n",
       "      <td>3942</td>\n",
       "      <td>3377</td>\n",
       "      <td>5221</td>\n",
       "      <td>504</td>\n",
       "      <td>1912</td>\n",
       "      <td>10</td>\n",
       "      <td>554</td>\n",
       "      <td>...</td>\n",
       "      <td>7</td>\n",
       "      <td>2014</td>\n",
       "      <td>24</td>\n",
       "      <td>9</td>\n",
       "      <td>2</td>\n",
       "      <td>0</td>\n",
       "      <td>0</td>\n",
       "      <td>7</td>\n",
       "      <td>7</td>\n",
       "      <td>175.54</td>\n",
       "    </tr>\n",
       "    <tr>\n",
       "      <th>1</th>\n",
       "      <td>11157</td>\n",
       "      <td>61</td>\n",
       "      <td>534</td>\n",
       "      <td>3942</td>\n",
       "      <td>3377</td>\n",
       "      <td>5221</td>\n",
       "      <td>504</td>\n",
       "      <td>1912</td>\n",
       "      <td>10</td>\n",
       "      <td>554</td>\n",
       "      <td>...</td>\n",
       "      <td>7</td>\n",
       "      <td>2014</td>\n",
       "      <td>24</td>\n",
       "      <td>9</td>\n",
       "      <td>2</td>\n",
       "      <td>0</td>\n",
       "      <td>0</td>\n",
       "      <td>6</td>\n",
       "      <td>7</td>\n",
       "      <td>95.80</td>\n",
       "    </tr>\n",
       "    <tr>\n",
       "      <th>2</th>\n",
       "      <td>15689</td>\n",
       "      <td>584</td>\n",
       "      <td>262</td>\n",
       "      <td>0</td>\n",
       "      <td>5290</td>\n",
       "      <td>1579</td>\n",
       "      <td>3203</td>\n",
       "      <td>1912</td>\n",
       "      <td>9</td>\n",
       "      <td>1578</td>\n",
       "      <td>...</td>\n",
       "      <td>4</td>\n",
       "      <td>2016</td>\n",
       "      <td>18</td>\n",
       "      <td>11</td>\n",
       "      <td>3</td>\n",
       "      <td>4</td>\n",
       "      <td>0</td>\n",
       "      <td>2</td>\n",
       "      <td>0</td>\n",
       "      <td>107.35</td>\n",
       "    </tr>\n",
       "    <tr>\n",
       "      <th>3</th>\n",
       "      <td>11155</td>\n",
       "      <td>61</td>\n",
       "      <td>534</td>\n",
       "      <td>3942</td>\n",
       "      <td>3377</td>\n",
       "      <td>5221</td>\n",
       "      <td>504</td>\n",
       "      <td>1912</td>\n",
       "      <td>10</td>\n",
       "      <td>554</td>\n",
       "      <td>...</td>\n",
       "      <td>49</td>\n",
       "      <td>2016</td>\n",
       "      <td>6</td>\n",
       "      <td>44</td>\n",
       "      <td>11</td>\n",
       "      <td>6</td>\n",
       "      <td>1</td>\n",
       "      <td>4</td>\n",
       "      <td>0</td>\n",
       "      <td>172.90</td>\n",
       "    </tr>\n",
       "    <tr>\n",
       "      <th>4</th>\n",
       "      <td>11158</td>\n",
       "      <td>61</td>\n",
       "      <td>534</td>\n",
       "      <td>3942</td>\n",
       "      <td>3377</td>\n",
       "      <td>5221</td>\n",
       "      <td>504</td>\n",
       "      <td>1912</td>\n",
       "      <td>9</td>\n",
       "      <td>554</td>\n",
       "      <td>...</td>\n",
       "      <td>49</td>\n",
       "      <td>2016</td>\n",
       "      <td>6</td>\n",
       "      <td>44</td>\n",
       "      <td>11</td>\n",
       "      <td>6</td>\n",
       "      <td>1</td>\n",
       "      <td>1</td>\n",
       "      <td>0</td>\n",
       "      <td>77.72</td>\n",
       "    </tr>\n",
       "  </tbody>\n",
       "</table>\n",
       "<p>5 rows × 44 columns</p>\n",
       "</div>"
      ],
      "text/plain": [
       "   gift_id  gift_type  gift_category  gift_cluster  lsg_1  lsg_2  lsg_3  \\\n",
       "0    11156         61            534          3942   3377   5221    504   \n",
       "1    11157         61            534          3942   3377   5221    504   \n",
       "2    15689        584            262             0   5290   1579   3203   \n",
       "3    11155         61            534          3942   3377   5221    504   \n",
       "4    11158         61            534          3942   3377   5221    504   \n",
       "\n",
       "   lsg_4  lsg_5  lsg_6  ...  uk_date1_minute  uk_date2_year  uk_date2_day  \\\n",
       "0   1912     10    554  ...                7           2014            24   \n",
       "1   1912     10    554  ...                7           2014            24   \n",
       "2   1912      9   1578  ...                4           2016            18   \n",
       "3   1912     10    554  ...               49           2016             6   \n",
       "4   1912      9    554  ...               49           2016             6   \n",
       "\n",
       "   uk_date2_weekofyear  uk_date2_month  uk_date2_dayofweek  uk_date2_weekend  \\\n",
       "0                    9               2                   0                 0   \n",
       "1                    9               2                   0                 0   \n",
       "2                   11               3                   4                 0   \n",
       "3                   44              11                   6                 1   \n",
       "4                   44              11                   6                 1   \n",
       "\n",
       "   uk_date2_hour  uk_date2_minute   price  \n",
       "0              7                7  175.54  \n",
       "1              6                7   95.80  \n",
       "2              2                0  107.35  \n",
       "3              4                0  172.90  \n",
       "4              1                0   77.72  \n",
       "\n",
       "[5 rows x 44 columns]"
      ]
     },
     "execution_count": 23,
     "metadata": {},
     "output_type": "execute_result"
    }
   ],
   "source": [
    "train_data.head()"
   ]
  },
  {
   "cell_type": "code",
   "execution_count": 24,
   "metadata": {},
   "outputs": [],
   "source": [
    "train_df=train_data\n"
   ]
  },
  {
   "cell_type": "code",
   "execution_count": 25,
   "metadata": {},
   "outputs": [],
   "source": [
    "x = train_df.drop(labels=['price'], axis=1)\n",
    "y = train_df['price'].values"
   ]
  },
  {
   "cell_type": "code",
   "execution_count": 26,
   "metadata": {},
   "outputs": [],
   "source": [
    "from sklearn.model_selection import train_test_split"
   ]
  },
  {
   "cell_type": "code",
   "execution_count": 27,
   "metadata": {},
   "outputs": [],
   "source": [
    "x_train,x_test,y_train,y_test = train_test_split(x,y,test_size = 0.2,random_state =42)"
   ]
  },
  {
   "cell_type": "code",
   "execution_count": 29,
   "metadata": {},
   "outputs": [
    {
     "data": {
      "text/plain": [
       "((16223, 43), (4056, 43), (16223,), (4056,))"
      ]
     },
     "execution_count": 29,
     "metadata": {},
     "output_type": "execute_result"
    }
   ],
   "source": [
    "x_train.shape,x_test.shape,y_train.shape,y_test.shape"
   ]
  },
  {
   "cell_type": "code",
   "execution_count": 30,
   "metadata": {},
   "outputs": [],
   "source": [
    "from math import sqrt \n",
    "from sklearn.metrics import mean_absolute_error"
   ]
  },
  {
   "cell_type": "code",
   "execution_count": 32,
   "metadata": {},
   "outputs": [
    {
     "name": "stdout",
     "output_type": "stream",
     "text": [
      "Collecting lightgbm\n",
      "  Downloading lightgbm-3.1.1-py2.py3-none-win_amd64.whl (754 kB)\n",
      "Requirement already satisfied: scikit-learn!=0.22.0 in c:\\programdata\\anaconda3\\lib\\site-packages (from lightgbm) (0.22.1)\n",
      "Requirement already satisfied: scipy in c:\\programdata\\anaconda3\\lib\\site-packages (from lightgbm) (1.4.1)\n",
      "Requirement already satisfied: wheel in c:\\programdata\\anaconda3\\lib\\site-packages (from lightgbm) (0.34.2)\n",
      "Requirement already satisfied: numpy in c:\\programdata\\anaconda3\\lib\\site-packages (from lightgbm) (1.18.1)\n",
      "Requirement already satisfied: joblib>=0.11 in c:\\programdata\\anaconda3\\lib\\site-packages (from scikit-learn!=0.22.0->lightgbm) (0.14.1)\n",
      "Installing collected packages: lightgbm\n",
      "Successfully installed lightgbm-3.1.1\n",
      "Note: you may need to restart the kernel to use updated packages.\n"
     ]
    },
    {
     "name": "stderr",
     "output_type": "stream",
     "text": [
      "WARNING: You are using pip version 20.2.2; however, version 20.3.1 is available.\n",
      "You should consider upgrading via the 'C:\\ProgramData\\Anaconda3\\python.exe -m pip install --upgrade pip' command.\n"
     ]
    }
   ],
   "source": [
    "pip install lightgbm"
   ]
  },
  {
   "cell_type": "code",
   "execution_count": 33,
   "metadata": {},
   "outputs": [],
   "source": [
    "import lightgbm  as lgb"
   ]
  },
  {
   "cell_type": "code",
   "execution_count": 34,
   "metadata": {},
   "outputs": [],
   "source": [
    "train = lgb.Dataset(x_train, label=y_train)\n",
    "test = lgb.Dataset(x_test, label=y_test)\n",
    "\n",
    "param = {'objective': 'regression',\n",
    "         'boosting': 'gbdt',  \n",
    "         'metric': 'l2_root',\n",
    "         'learning_rate': 0.1, \n",
    "         'num_iterations': 500,\n",
    "         'num_leaves': 80,\n",
    "         'max_depth': -1,\n",
    "         'min_data_in_leaf': 11,\n",
    "         'bagging_fraction': 0.80,\n",
    "         'bagging_freq': 1,\n",
    "         'bagging_seed': 3,\n",
    "         'feature_fraction': 0.80,\n",
    "         'feature_fraction_seed': 2,\n",
    "         'early_stopping_round': 200,\n",
    "         'max_bin': 250\n",
    "         }\n",
    "        "
   ]
  },
  {
   "cell_type": "code",
   "execution_count": 35,
   "metadata": {},
   "outputs": [
    {
     "name": "stderr",
     "output_type": "stream",
     "text": [
      "C:\\ProgramData\\Anaconda3\\lib\\site-packages\\lightgbm\\engine.py:151: UserWarning: Found `num_iterations` in params. Will use it instead of argument\n",
      "  warnings.warn(\"Found `{}` in params. Will use it instead of argument\".format(alias))\n",
      "C:\\ProgramData\\Anaconda3\\lib\\site-packages\\lightgbm\\engine.py:156: UserWarning: Found `early_stopping_round` in params. Will use it instead of argument\n",
      "  warnings.warn(\"Found `{}` in params. Will use it instead of argument\".format(alias))\n"
     ]
    },
    {
     "name": "stdout",
     "output_type": "stream",
     "text": [
      "[LightGBM] [Warning] Auto-choosing col-wise multi-threading, the overhead of testing was 0.002255 seconds.\n",
      "You can set `force_col_wise=true` to remove the overhead.\n",
      "[LightGBM] [Info] Total Bins 3031\n",
      "[LightGBM] [Info] Number of data points in the train set: 16223, number of used features: 43\n",
      "[LightGBM] [Info] Start training from score 142.034606\n",
      "Training until validation scores don't improve for 200 rounds\n",
      "[100]\tvalid_0's rmse: 132.005\n",
      "[200]\tvalid_0's rmse: 129.446\n",
      "[300]\tvalid_0's rmse: 128.732\n",
      "[400]\tvalid_0's rmse: 128.336\n",
      "[500]\tvalid_0's rmse: 128.058\n",
      "Did not meet early stopping. Best iteration is:\n",
      "[479]\tvalid_0's rmse: 128.022\n",
      "RMAE: 6.395038472524296\n"
     ]
    }
   ],
   "source": [
    "lgbm = lgb.train(params=param, verbose_eval=100, train_set=train, valid_sets=[test])\n",
    "\n",
    "y_pred_lgbm = lgbm.predict(x_test)\n",
    "print('RMAE:', sqrt(mean_absolute_error(y_test,y_pred_lgbm)))"
   ]
  },
  {
   "cell_type": "code",
   "execution_count": 37,
   "metadata": {},
   "outputs": [
    {
     "data": {
      "image/png": "[encoded data removed]",
      "text/plain": [
       "<Figure size 864x720 with 1 Axes>"
      ]
     },
     "metadata": {
      "needs_background": "light"
     },
     "output_type": "display_data"
    }
   ],
   "source": [
    "import seaborn as sns\n",
    "import matplotlib.pyplot as plt;\n",
    "\n",
    "feature_imp = pd.DataFrame(sorted(zip(lgbm.feature_importance(), x.columns), reverse=True)[:50], \n",
    "                           columns=['Value','Feature'])\n",
    "plt.figure(figsize=(12, 10))\n",
    "sns.barplot(x=\"Value\", y=\"Feature\", data=feature_imp.sort_values(by=\"Value\", ascending=False))\n",
    "plt.title('LightGBM Features')\n",
    "plt.tight_layout()\n",
    "plt.show()"
   ]
  },
  {
   "cell_type": "code",
   "execution_count": 38,
   "metadata": {},
   "outputs": [],
   "source": [
    "Xtest = test_data"
   ]
  },
  {
   "cell_type": "code",
   "execution_count": 41,
   "metadata": {},
   "outputs": [
    {
     "name": "stdout",
     "output_type": "stream",
     "text": [
      "[LightGBM] [Warning] Accuracy may be bad since you didn't explicitly set num_leaves OR 2^max_depth > num_leaves. (num_leaves=31).\n",
      "RMSLE LGBM:  93.26818403684945\n",
      "[LightGBM] [Warning] Accuracy may be bad since you didn't explicitly set num_leaves OR 2^max_depth > num_leaves. (num_leaves=31).\n",
      "RMSLE LGBM:  93.16100380610055\n",
      "[LightGBM] [Warning] Accuracy may be bad since you didn't explicitly set num_leaves OR 2^max_depth > num_leaves. (num_leaves=31).\n",
      "RMSLE LGBM:  93.21321064020346\n",
      "[LightGBM] [Warning] Accuracy may be bad since you didn't explicitly set num_leaves OR 2^max_depth > num_leaves. (num_leaves=31).\n",
      "RMSLE LGBM:  93.12730879125974\n"
     ]
    }
   ],
   "source": [
    "from sklearn.model_selection import KFold\n",
    "from lightgbm import LGBMRegressor\n",
    "\n",
    "errlgb = []\n",
    "y_pred_totlgb = []\n",
    "\n",
    "fold = KFold(n_splits=4, shuffle=True, random_state=101)\n",
    "\n",
    "for train_index, test_index in fold.split(x):\n",
    "    X_train, X_test = x.loc[train_index], x.loc[test_index]\n",
    "    y_train, y_test = y[train_index], y[test_index]\n",
    "\n",
    "    lgbm = LGBMRegressor(boosting_type='gbdt', max_depth=31, learning_rate=0.01, n_estimators=1000, min_child_samples=20, subsample=0.90)\n",
    "    lgbm.fit(X_train, y_train, eval_set=[(X_test, y_test)], verbose=0, early_stopping_rounds=200)\n",
    "\n",
    "    y_pred_lgbm = lgbm.predict(X_test)\n",
    "    print(\"RMSLE LGBM: \", 100-sqrt(mean_absolute_error(y_test,y_pred_lgbm)))\n",
    "\n",
    "    errlgb.append(sqrt(mean_absolute_error(y_test,y_pred_lgbm)))\n",
    "    p = lgbm.predict(Xtest)\n",
    "    y_pred_totlgb.append(p)"
   ]
  },
  {
   "cell_type": "code",
   "execution_count": 42,
   "metadata": {},
   "outputs": [],
   "source": [
    "import numpy as np"
   ]
  },
  {
   "cell_type": "code",
   "execution_count": 43,
   "metadata": {},
   "outputs": [
    {
     "data": {
      "text/plain": [
       "6.807573181396701"
      ]
     },
     "execution_count": 43,
     "metadata": {},
     "output_type": "execute_result"
    }
   ],
   "source": [
    "np.mean(errlgb,0)\n"
   ]
  },
  {
   "cell_type": "code",
   "execution_count": 44,
   "metadata": {},
   "outputs": [
    {
     "data": {
      "text/plain": [
       "array([ 80.18659964, 115.30881659,  46.48477236, ..., 271.89992688,\n",
       "       244.33447202, 159.65817952])"
      ]
     },
     "execution_count": 44,
     "metadata": {},
     "output_type": "execute_result"
    }
   ],
   "source": [
    "lgbm_final = np.mean(y_pred_totlgb,0)\n",
    "lgbm_final"
   ]
  },
  {
   "cell_type": "code",
   "execution_count": 49,
   "metadata": {},
   "outputs": [
    {
     "name": "stdout",
     "output_type": "stream",
     "text": [
      "       gift_id       price\n",
      "0         2372   80.186600\n",
      "1        13040  115.308817\n",
      "2         5754   46.484772\n",
      "3         1417   85.655374\n",
      "4        23204   47.214056\n",
      "...        ...         ...\n",
      "13514    29169  257.690062\n",
      "13515    29165  262.610323\n",
      "13516    29168  271.899927\n",
      "13517    33797  244.334472\n",
      "13518    33798  159.658180\n",
      "\n",
      "[13519 rows x 2 columns]\n"
     ]
    }
   ],
   "source": [
    "submission = pd.DataFrame({\n",
    "        \"gift_id\": test_data['gift_id'],\n",
    "        \"price\": lgbm_final\n",
    "    })\n",
    "submission.to_csv('./submission.csv', index=False)\n",
    "print(submission)"
   ]
  },
  {
   "cell_type": "code",
   "execution_count": 50,
   "metadata": {},
   "outputs": [
    {
     "data": {
      "text/plain": [
       "(13519, 43)"
      ]
     },
     "execution_count": 50,
     "metadata": {},
     "output_type": "execute_result"
    }
   ],
   "source": [
    "test_data.shape"
   ]
  },
  {
   "cell_type": "code",
   "execution_count": 52,
   "metadata": {},
   "outputs": [],
   "source": [
    "test_data['gift_id'] = test_data['gift_id'].astype(str)"
   ]
  },
  {
   "cell_type": "code",
   "execution_count": null,
   "metadata": {},
   "outputs": [],
   "source": []
  },
  {
   "cell_type": "code",
   "execution_count": null,
   "metadata": {},
   "outputs": [],
   "source": []
  }
 ],
 "metadata": {
  "kernelspec": {
   "display_name": "Python 3",
   "language": "python",
   "name": "python3"
  },
  "language_info": {
   "codemirror_mode": {
    "name": "ipython",
    "version": 3
   },
   "file_extension": ".py",
   "mimetype": "text/x-python",
   "name": "python",
   "nbconvert_exporter": "python",
   "pygments_lexer": "ipython3",
   "version": "3.7.6"
  }
 },
 "nbformat": 4,
 "nbformat_minor": 4
}
